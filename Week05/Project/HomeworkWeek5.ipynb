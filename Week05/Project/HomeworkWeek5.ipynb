{
 "cells": [
  {
   "cell_type": "code",
   "execution_count": 1,
   "metadata": {},
   "outputs": [],
   "source": [
    "import pandas as pd\n",
    "import numpy as np\n",
    "import sklearn\n",
    "from scipy.stats import skew, kurtosis\n",
    "from scipy.stats import describe\n",
    "from scipy.stats.mstats import gmean\n",
    "import matplotlib.pyplot as plt\n",
    "import scipy.linalg\n",
    "import pprint as pprint\n",
    "import time as time\n",
    "from sklearn.decomposition import PCA"
   ]
  },
  {
   "cell_type": "code",
   "execution_count": null,
   "metadata": {},
   "outputs": [],
   "source": [
    "# Problem 1\n",
    "\n",
    "#if x and y is normal, can just use multivariate normal, y = f(X, epsilon)\n",
    "\n",
    "\n",
    "#matrix of [X E] ~ N(u,E)\n",
    "#X ~ N(u, E)\n",
    "#E ~ N(0, I)\n",
    "#y = f(X, epsilon)\n",
    "#epsilon ~ N(0, I)\n",
    "\n",
    "#matrix = Sigma\n",
    "\n",
    "#[x epsilon] ~ (u,sigma)   where u = [x1 zero]\n",
    "\n",
    "#y = f(x, epsilon)   observed x and epsilon which is error term to get y  There is a beta value there usually"
   ]
  },
  {
   "cell_type": "code",
   "execution_count": 5,
   "metadata": {},
   "outputs": [
    {
     "data": {
      "text/html": [
       "<div>\n",
       "<style scoped>\n",
       "    .dataframe tbody tr th:only-of-type {\n",
       "        vertical-align: middle;\n",
       "    }\n",
       "\n",
       "    .dataframe tbody tr th {\n",
       "        vertical-align: top;\n",
       "    }\n",
       "\n",
       "    .dataframe thead th {\n",
       "        text-align: right;\n",
       "    }\n",
       "</style>\n",
       "<table border=\"1\" class=\"dataframe\">\n",
       "  <thead>\n",
       "    <tr style=\"text-align: right;\">\n",
       "      <th></th>\n",
       "      <th>x</th>\n",
       "    </tr>\n",
       "  </thead>\n",
       "  <tbody>\n",
       "    <tr>\n",
       "      <th>0</th>\n",
       "      <td>-0.002665</td>\n",
       "    </tr>\n",
       "    <tr>\n",
       "      <th>1</th>\n",
       "      <td>-0.045128</td>\n",
       "    </tr>\n",
       "    <tr>\n",
       "      <th>2</th>\n",
       "      <td>0.053635</td>\n",
       "    </tr>\n",
       "    <tr>\n",
       "      <th>3</th>\n",
       "      <td>0.010450</td>\n",
       "    </tr>\n",
       "    <tr>\n",
       "      <th>4</th>\n",
       "      <td>-0.016284</td>\n",
       "    </tr>\n",
       "  </tbody>\n",
       "</table>\n",
       "</div>"
      ],
      "text/plain": [
       "          x\n",
       "0 -0.002665\n",
       "1 -0.045128\n",
       "2  0.053635\n",
       "3  0.010450\n",
       "4 -0.016284"
      ]
     },
     "execution_count": 5,
     "metadata": {},
     "output_type": "execute_result"
    }
   ],
   "source": []
  },
  {
   "cell_type": "code",
   "execution_count": 39,
   "metadata": {},
   "outputs": [
    {
     "name": "stdout",
     "output_type": "stream",
     "text": [
      "VaR: 8.1255\n",
      "ES: 11.1715\n"
     ]
    },
    {
     "data": {
      "image/png": "[encoded data removed]",
      "text/plain": [
       "<Figure size 432x288 with 1 Axes>"
      ]
     },
     "metadata": {
      "needs_background": "light"
     },
     "output_type": "display_data"
    }
   ],
   "source": [
    "\n",
    "from scipy.stats import norm\n",
    "from scipy.stats import rv_continuous\n",
    "from scipy.integrate import quad\n",
    "from scipy.optimize import curve_fit\n",
    "import matplotlib.pyplot as plt\n",
    "\n",
    "# Read in the CSV file with pandas\n",
    "data = pd.read_csv('problem1.csv')\n",
    "\n",
    "#convert to numpy array\n",
    "data = data.to_numpy()\n",
    "\n",
    "def fit_normal(x):\n",
    "    # Mean and Std values\n",
    "    m = np.mean(x)\n",
    "    s = np.std(x)\n",
    "    \n",
    "    # Create the error model\n",
    "    error_model = norm(m, s)\n",
    "    \n",
    "    # Calculate the errors and U\n",
    "    errors = x - m\n",
    "    u = error_model.cdf(x)\n",
    "    \n",
    "    # Define the evaluation function\n",
    "    def eval_func(u):\n",
    "        return error_model.ppf(u)\n",
    "    \n",
    "    # Return the fitted model\n",
    "    return {\"errors\": errors, \"u\": u, \"eval\": eval_func, \"model\": error_model}\n",
    "\n",
    "\n",
    "NormDistFitted = fit_normal(data)\n",
    "\n",
    "num_simulations = 1000\n",
    "simulated_value = NormDistFitted['model'].rvs(num_simulations)\n",
    "\n",
    "# Calculate VaR\n",
    "alpha = 0.05 \n",
    "var = -NormDistFitted['model'].ppf(alpha)\n",
    "pdf = NormDistFitted['model'].pdf\n",
    "\n",
    "# Calculate Expected Shortfall\n",
    "\n",
    "def ES_func(x):\n",
    "    return x * pdf(x)\n",
    "\n",
    "ES, _ = quad(ES_func, -np.inf, var)\n",
    "ES = -ES / alpha\n",
    "\n",
    "# Print the results\n",
    "print('VaR: {:.4f}'.format(var*100))\n",
    "print('ES: {:.4f}'.format(ES*100))\n",
    "\n",
    "# Plot the histogram of the data\n",
    "plt.hist(data, bins=50, density=True, alpha=0.05)\n",
    "\n",
    "# Plot the fitted PDF\n",
    "x = np.linspace(np.min(data), np.max(data), 100)\n",
    "y = NormDistFitted['model'].pdf(x)\n",
    "plt.plot(x, y, 'r-', lw=2)\n",
    "\n",
    "# Plot VaR and Expected Shortfall lines\n",
    "plt.axvline(-var, color='black', linestyle='--', label='VaR')\n",
    "plt.axvline(-ES, color='green', linestyle='--', label='ES')\n",
    "\n",
    "plt.legend()\n",
    "plt.show()\n",
    "\n"
   ]
  },
  {
   "cell_type": "code",
   "execution_count": 53,
   "metadata": {},
   "outputs": [
    {
     "name": "stdout",
     "output_type": "stream",
     "text": [
      "VaR: 7.6476\n",
      "ES: 11.4446\n"
     ]
    },
    {
     "data": {
      "image/png": "[encoded data removed]",
      "text/plain": [
       "<Figure size 432x288 with 1 Axes>"
      ]
     },
     "metadata": {
      "needs_background": "light"
     },
     "output_type": "display_data"
    }
   ],
   "source": [
    "from scipy.stats import t\n",
    "import numpy as np\n",
    "import scipy.stats as stats\n",
    "from scipy.optimize import minimize\n",
    "\n",
    "import numpy as np\n",
    "from scipy.stats import t as t_dist\n",
    "from scipy.optimize import minimize\n",
    "\n",
    "data = pd.read_csv('problem1.csv')\n",
    "\n",
    "#convert to numpy array\n",
    "data = data.to_numpy()\n",
    "\n",
    "\n",
    "def general_t_ll(mu, s, nu, x):\n",
    "    td = t_dist(nu)\n",
    "    log_pdf = td.logpdf((x - mu) / s) - np.log(s)\n",
    "    return -np.sum(log_pdf)\n",
    "\n",
    "def fit_general_t(x):\n",
    "    # Approximate values based on moments\n",
    "    start_m = np.mean(x)\n",
    "    start_nu = 6.0 / stats.kurtosis(x) + 4\n",
    "    start_s = np.sqrt(np.var(x) * (start_nu - 2) / start_nu)\n",
    "\n",
    "    def _gtl(theta):\n",
    "        return general_t_ll(*theta, x)\n",
    "\n",
    "    bounds = ((None, None), (1e-6, None), (2.0001, None))\n",
    "    result = minimize(_gtl, (start_m, start_s, start_nu), bounds=bounds)\n",
    "\n",
    "    m, s, nu = result.x\n",
    "    t_dist_fitted = t_dist(nu, loc=m, scale=s)\n",
    "    return {'m': m, 's': s, 'nu': nu, 'model': t_dist_fitted}\n",
    "\n",
    "\n",
    "TDistFitted = fit_general_t(data)\n",
    "\n",
    "num_simulations = 1000\n",
    "simulated_value = TDistFitted['model'].rvs(num_simulations)\n",
    "\n",
    "# Calculate VaR\n",
    "alpha = 0.05 \n",
    "var = -TDistFitted['model'].ppf(alpha)\n",
    "pdf = TDistFitted['model'].pdf\n",
    "\n",
    "# Calculate Expected Shortfall\n",
    "def ES_func(x):\n",
    "    return x * pdf(x)\n",
    "\n",
    "ES, _ = quad(ES_func, -np.inf, var)\n",
    "ES = -ES / alpha\n",
    "\n",
    "# Print the results\n",
    "print('VaR: {:.4f}'.format(var*100))\n",
    "print('ES: {:.4f}'.format(ES*100))\n",
    "\n",
    "# Plot the histogram of the data\n",
    "plt.hist(data, bins=50, density=True, alpha=0.05)\n",
    "\n",
    "# Plot the fitted PDF\n",
    "x = np.linspace(np.min(data), np.max(data), 100)\n",
    "y = TDistFitted['model'].pdf(x)\n",
    "plt.plot(x, y, 'r-', lw=2)\n",
    "\n",
    "# Plot VaR and Expected Shortfall lines\n",
    "plt.axvline(-var, color='black', linestyle='--', label='VaR')\n",
    "plt.axvline(-ES, color='green', linestyle='--', label='ES')\n",
    "\n",
    "plt.legend()\n",
    "plt.show()\n"
   ]
  },
  {
   "cell_type": "code",
   "execution_count": null,
   "metadata": {},
   "outputs": [],
   "source": []
  }
 ],
 "metadata": {
  "kernelspec": {
   "display_name": "Python 3",
   "language": "python",
   "name": "python3"
  },
  "language_info": {
   "codemirror_mode": {
    "name": "ipython",
    "version": 3
   },
   "file_extension": ".py",
   "mimetype": "text/x-python",
   "name": "python",
   "nbconvert_exporter": "python",
   "pygments_lexer": "ipython3",
   "version": "3.7.9"
  },
  "orig_nbformat": 4,
  "vscode": {
   "interpreter": {
    "hash": "60a2eb1cc2948f8ab71ca2023f5261e175d5c6419ce9c9ef47a75011b152794c"
   }
  }
 },
 "nbformat": 4,
 "nbformat_minor": 2
}
