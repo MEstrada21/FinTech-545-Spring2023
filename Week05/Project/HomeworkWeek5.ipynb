{
 "cells": [
  {
   "cell_type": "code",
   "execution_count": 4,
   "metadata": {},
   "outputs": [],
   "source": [
    "import pandas as pd\n",
    "import numpy as np\n",
    "import sklearn\n",
    "from scipy.stats import skew, kurtosis\n",
    "from scipy.stats import describe\n",
    "from scipy.stats.mstats import gmean\n",
    "import matplotlib.pyplot as plt\n",
    "import scipy.linalg\n",
    "import pprint as pprint\n",
    "import time as time\n",
    "from sklearn.decomposition import PCA"
   ]
  },
  {
   "cell_type": "code",
   "execution_count": null,
   "metadata": {},
   "outputs": [],
   "source": [
    "# Problem 1\n",
    "\n",
    "#if x and y is normal, can just use multivariate normal, y = f(X, epsilon)\n",
    "\n",
    "\n",
    "#matrix of [X E] ~ N(u,E)\n",
    "#X ~ N(u, E)\n",
    "#E ~ N(0, I)\n",
    "#y = f(X, epsilon)\n",
    "#epsilon ~ N(0, I)\n",
    "\n",
    "#matrix = Sigma\n",
    "\n",
    "#[x epsilon] ~ (u,sigma)   where u = [x1 zero]\n",
    "\n",
    "#y = f(x, epsilon)   observed x and epsilon which is error term to get y  There is a beta value there usually"
   ]
  },
  {
   "cell_type": "code",
   "execution_count": 5,
   "metadata": {},
   "outputs": [
    {
     "data": {
      "text/html": [
       "<div>\n",
       "<style scoped>\n",
       "    .dataframe tbody tr th:only-of-type {\n",
       "        vertical-align: middle;\n",
       "    }\n",
       "\n",
       "    .dataframe tbody tr th {\n",
       "        vertical-align: top;\n",
       "    }\n",
       "\n",
       "    .dataframe thead th {\n",
       "        text-align: right;\n",
       "    }\n",
       "</style>\n",
       "<table border=\"1\" class=\"dataframe\">\n",
       "  <thead>\n",
       "    <tr style=\"text-align: right;\">\n",
       "      <th></th>\n",
       "      <th>x</th>\n",
       "    </tr>\n",
       "  </thead>\n",
       "  <tbody>\n",
       "    <tr>\n",
       "      <th>0</th>\n",
       "      <td>-0.002665</td>\n",
       "    </tr>\n",
       "    <tr>\n",
       "      <th>1</th>\n",
       "      <td>-0.045128</td>\n",
       "    </tr>\n",
       "    <tr>\n",
       "      <th>2</th>\n",
       "      <td>0.053635</td>\n",
       "    </tr>\n",
       "    <tr>\n",
       "      <th>3</th>\n",
       "      <td>0.010450</td>\n",
       "    </tr>\n",
       "    <tr>\n",
       "      <th>4</th>\n",
       "      <td>-0.016284</td>\n",
       "    </tr>\n",
       "  </tbody>\n",
       "</table>\n",
       "</div>"
      ],
      "text/plain": [
       "          x\n",
       "0 -0.002665\n",
       "1 -0.045128\n",
       "2  0.053635\n",
       "3  0.010450\n",
       "4 -0.016284"
      ]
     },
     "execution_count": 5,
     "metadata": {},
     "output_type": "execute_result"
    }
   ],
   "source": []
  },
  {
   "cell_type": "code",
   "execution_count": 40,
   "metadata": {},
   "outputs": [
    {
     "name": "stdout",
     "output_type": "stream",
     "text": [
      "VaR: 8.1255\n",
      "ES: 11.1715\n"
     ]
    },
    {
     "data": {
      "image/png": "[encoded data removed]",
      "text/plain": [
       "<Figure size 432x288 with 1 Axes>"
      ]
     },
     "metadata": {
      "needs_background": "light"
     },
     "output_type": "display_data"
    }
   ],
   "source": [
    "\n",
    "from scipy.stats import norm\n",
    "from scipy.stats import rv_continuous\n",
    "from scipy.integrate import quad\n",
    "from scipy.optimize import curve_fit\n",
    "import matplotlib.pyplot as plt\n",
    "\n",
    "# Read in the CSV file with pandas\n",
    "data = pd.read_csv('problem1.csv')\n",
    "\n",
    "#convert to numpy array\n",
    "# data = data.to_numpy()\n",
    "\n",
    "def fit_normal(x):\n",
    "    x = x.to_numpy()\n",
    "    # Mean and Std values\n",
    "    m = np.mean(x)\n",
    "    s = np.std(x)\n",
    "    \n",
    "    # Create the error model\n",
    "    error_model = norm(m, s)\n",
    "    \n",
    "    # Calculate the errors and U\n",
    "    errors = x - m\n",
    "    u = error_model.cdf(x)\n",
    "    \n",
    "    # Define the evaluation function\n",
    "    def eval_func(u):\n",
    "        return error_model.ppf(u)\n",
    "    \n",
    "    # Return the fitted model\n",
    "    return {\"errors\": errors, \"u\": u, \"eval\": eval_func, \"model\": error_model}\n",
    "\n",
    "\n",
    "NormDistFitted = fit_normal(data)\n",
    "\n",
    "num_simulations = 1000\n",
    "simulated_value = NormDistFitted['model'].rvs(num_simulations)\n",
    "\n",
    "\n",
    "\n",
    "def VaRFittedNormal(data, alpha = .05):\n",
    "    NormDistFitted = fit_normal(data)\n",
    "    var = -NormDistFitted['model'].ppf(alpha)\n",
    "    pdf = NormDistFitted['model'].pdf\n",
    "    def ES_func_norm(x):\n",
    "        return x * pdf(x)\n",
    "    ES, _ = quad(ES_func_norm, -np.inf, var)\n",
    "    ES = -ES / alpha\n",
    "    return {\"VaR\": var, \"ES\": ES}\n",
    "\n",
    "# Calculate VaR\n",
    "alpha = 0.05 \n",
    "var = -NormDistFitted['model'].ppf(alpha)\n",
    "pdf = NormDistFitted['model'].pdf\n",
    "\n",
    "\n",
    "# Calculate Expected Shortfall\n",
    "\n",
    "def ES_func_norm(x):\n",
    "    return x * pdf(x)\n",
    "\n",
    "ES, _ = quad(ES_func_norm, -np.inf, var)\n",
    "ES = -ES / alpha\n",
    "\n",
    "# Print the results\n",
    "print('VaR: {:.4f}'.format(var*100))\n",
    "print('ES: {:.4f}'.format(ES*100))\n",
    "\n",
    "# Plot the histogram of the data\n",
    "plt.hist(data, bins=50, density=True, alpha=0.05)\n",
    "\n",
    "# Plot the fitted PDF\n",
    "x = np.linspace(np.min(data), np.max(data), 100)\n",
    "y = NormDistFitted['model'].pdf(x)\n",
    "plt.plot(x, y, 'r-', lw=2)\n",
    "\n",
    "# Plot VaR and Expected Shortfall lines\n",
    "plt.axvline(-var, color='black', linestyle='--', label='VaR')\n",
    "plt.axvline(-ES, color='green', linestyle='--', label='ES')\n",
    "\n",
    "plt.legend()\n",
    "plt.show()\n",
    "\n"
   ]
  },
  {
   "cell_type": "code",
   "execution_count": 11,
   "metadata": {},
   "outputs": [
    {
     "name": "stdout",
     "output_type": "stream",
     "text": [
      "{'VaR': 0.08125483171032236, 'ES': 0.11171522323912937}\n"
     ]
    }
   ],
   "source": [
    "def VaRFittedNormal(data, alpha = .05):\n",
    "    NormDistFitted = fit_normal(data)\n",
    "    var = -NormDistFitted['model'].ppf(alpha)\n",
    "    pdf = NormDistFitted['model'].pdf\n",
    "    def ES_func_norm(x):\n",
    "        return x * pdf(x)\n",
    "    ES, _ = quad(ES_func_norm, -np.inf, var)\n",
    "    ES = -ES / alpha\n",
    "    return {\"VaR\": var, \"ES\": ES}\n",
    "\n",
    "results = VaRFittedNormal(data, alpha = .05)\n",
    "print(results)"
   ]
  },
  {
   "cell_type": "code",
   "execution_count": 37,
   "metadata": {},
   "outputs": [
    {
     "name": "stdout",
     "output_type": "stream",
     "text": [
      "{'VaR': 0.07806454132319025, 'ES': 0.12238321720750951}\n"
     ]
    }
   ],
   "source": [
    "def VaRFittedNormalSimulated(data, alpha=0.05, num_simulations=1000):\n",
    "    NormDistFitted = fit_normal(data)\n",
    "    simulated_value = NormDistFitted['model'].rvs(num_simulations)\n",
    "    var = -np.quantile(simulated_value, alpha)\n",
    "    pdf = NormDistFitted['model'].pdf\n",
    "    def ES_func_norm(x):\n",
    "        return x * pdf(x)\n",
    "    ES, _ = quad(ES_func_norm, -np.inf, var)\n",
    "    ES = -ES / alpha\n",
    "    return {\"VaR\": var, \"ES\": ES}\n",
    "\n",
    "stuff = VaRFittedNormal(data, alpha = .05, num_simulations= 1000)\n",
    "print(stuff)"
   ]
  },
  {
   "cell_type": "code",
   "execution_count": 9,
   "metadata": {},
   "outputs": [
    {
     "name": "stderr",
     "output_type": "stream",
     "text": [
      "C:\\Users\\Moneybag Mike\\AppData\\Roaming\\Python\\Python37\\site-packages\\ipykernel_launcher.py:36: IntegrationWarning: The occurrence of roundoff error is detected, which prevents \n",
      "  the requested tolerance from being achieved.  The error may be \n",
      "  underestimated.\n"
     ]
    }
   ],
   "source": [
    "from scipy.stats import norm\n",
    "from scipy.integrate import quad\n",
    "import numpy as np\n",
    "\n",
    "def fit_normal(x):\n",
    "    # Mean and Std values\n",
    "    m = np.mean(x)\n",
    "    s = np.std(x)\n",
    "    \n",
    "    # Create the error model\n",
    "    error_model = norm(m, s)\n",
    "    \n",
    "    # Calculate the errors and U\n",
    "    errors = x - m\n",
    "    u = error_model.cdf(x)\n",
    "    \n",
    "    # Define the evaluation function\n",
    "    def eval_func(u):\n",
    "        return error_model.ppf(u)\n",
    "    \n",
    "    # Return the fitted model\n",
    "    return {\"errors\": errors, \"u\": u, \"eval\": eval_func, \"model\": error_model}\n",
    "\n",
    "def calc_VaR_from_Fitted(fitted_data):\n",
    "    NormDistFitted = fit_normal(data)\n",
    "    \n",
    "    # Calculate the var value\n",
    "    var = -NormDistFitted['model'].ppf(alpha)\n",
    "\n",
    "def calc_ES(data, alpha):\n",
    "    # Fit the normal distribution to the data\n",
    "    NormDistFitted = fit_normal(data)\n",
    "    \n",
    "    # Calculate the var value\n",
    "    var = -NormDistFitted['model'].ppf(alpha)\n",
    "    \n",
    "    # Define the ES function\n",
    "    def ES_func_norm(x):\n",
    "        return x * NormDistFitted['model'].pdf(x) / alpha if x <= var else NormDistFitted['eval'](x) - var\n",
    "    \n",
    "    # Calculate the ES using quadrature integration\n",
    "    ES, _ = quad(ES_func_norm, -np.inf, np.inf)\n",
    "    ES = -ES\n",
    "    \n",
    "    return ES\n",
    "\n",
    "data = pd.read_csv('problem1.csv')\n",
    "\n",
    "data = data.to_numpy()\n",
    "ExpShortfall = calc_ES(data, alpha = .05)"
   ]
  },
  {
   "cell_type": "code",
   "execution_count": 53,
   "metadata": {},
   "outputs": [
    {
     "name": "stdout",
     "output_type": "stream",
     "text": [
      "VaR: 7.6476\n",
      "ES: 11.4446\n"
     ]
    },
    {
     "data": {
      "image/png": "[encoded data removed]",
      "text/plain": [
       "<Figure size 432x288 with 1 Axes>"
      ]
     },
     "metadata": {
      "needs_background": "light"
     },
     "output_type": "display_data"
    }
   ],
   "source": [
    "from scipy.stats import t\n",
    "import numpy as np\n",
    "import scipy.stats as stats\n",
    "from scipy.optimize import minimize\n",
    "\n",
    "import numpy as np\n",
    "\n",
    "from scipy.optimize import minimize\n",
    "\n",
    "data = pd.read_csv('problem1.csv')\n",
    "\n",
    "#convert to numpy array\n",
    "# data = data.to_numpy()\n",
    "\n",
    "\n",
    "def general_t_ll(mu, s, nu, x):\n",
    "    td = t(nu)\n",
    "    log_pdf = td.logpdf((x - mu) / s) - np.log(s)\n",
    "    return -np.sum(log_pdf)\n",
    "\n",
    "def fit_general_t(x):\n",
    "    x = x.to_numpy()\n",
    "    # Approximate values based on moments\n",
    "    start_m = np.mean(x)\n",
    "    start_nu = 6.0 / stats.kurtosis(x) + 4\n",
    "    start_s = np.sqrt(np.var(x) * (start_nu - 2) / start_nu)\n",
    "\n",
    "    def _gtl(theta):\n",
    "        return general_t_ll(*theta, x)\n",
    "\n",
    "    bounds = ((None, None), (1e-6, None), (2.0001, None))\n",
    "    result = minimize(_gtl, (start_m, start_s, start_nu), bounds=bounds)\n",
    "\n",
    "    m, s, nu = result.x\n",
    "    t_dist_fitted = t(nu, loc=m, scale=s)\n",
    "    return {'m': m, 's': s, 'nu': nu, 'model': t_dist_fitted}\n",
    "\n",
    "\n",
    "TDistFitted = fit_general_t(data)\n",
    "\n",
    "num_simulations = 1000\n",
    "simulated_value = TDistFitted['model'].rvs(num_simulations)\n",
    "\n",
    "# # Calculate VaR\n",
    "# alpha = 0.05 \n",
    "# var = -TDistFitted['model'].ppf(alpha)\n",
    "# pdf = TDistFitted['model'].pdf\n",
    "\n",
    "# # Calculate Expected Shortfall\n",
    "# def ES_func(x):\n",
    "#     return x * pdf(x)\n",
    "\n",
    "# ES, _ = quad(ES_func, -np.inf, var)\n",
    "# ES = -ES / alpha\n",
    "\n",
    "# Calculate VaR t dist\n",
    "alpha = 0.05 \n",
    "var = -TDistFitted['model'].ppf(alpha)\n",
    "\n",
    "# Calculate Expected Shortfall\n",
    "def ES_func_t(x):\n",
    "    return x * TDistFitted['model'].pdf(x) / alpha\n",
    "\n",
    "ES, _ = quad(ES_func_t, -np.inf, var)\n",
    "\n",
    "\n",
    "# def calcVaRFittedT(data , alpha = .05):\n",
    "#     TDistFitted = fit_general_t(data)\n",
    "#     var = -TDistFitted['model'].ppf(alpha)\n",
    "#     pdf = TDistFitted['model'].pdf\n",
    "#     def ES_func_t(x):\n",
    "#         return x * pdf(x) / alpha\n",
    "#     ES, _ = quad(ES_func_t, -np.inf, var)\n",
    "#     ES = -ES / alpha\n",
    "#     return {\"VaR\": var, \"ES\": ES}\n",
    "\n",
    "# Print the results\n",
    "print('VaR: {:.4f}'.format(var*100))\n",
    "print('ES: {:.4f}'.format(-ES*100))\n",
    "\n",
    "# Plot the histogram of the data\n",
    "plt.hist(data, bins=50, density=True, alpha=0.5)\n",
    "\n",
    "# Plot the fitted PDF\n",
    "x = np.linspace(np.min(data), np.max(data), 100)\n",
    "y = TDistFitted['model'].pdf(x)\n",
    "plt.plot(x, y, 'r-', lw=2)\n",
    "\n",
    "# Plot VaR and Expected Shortfall lines\n",
    "plt.axvline(-var, color='black', linestyle='--', label='VaR')\n",
    "plt.axvline(ES, color='green', linestyle='--', label='ES')\n",
    "\n",
    "plt.legend()\n",
    "plt.show()\n"
   ]
  },
  {
   "cell_type": "code",
   "execution_count": 51,
   "metadata": {},
   "outputs": [
    {
     "name": "stderr",
     "output_type": "stream",
     "text": [
      "c:\\Users\\Moneybag Mike\\AppData\\Local\\Programs\\Python\\Python37\\lib\\site-packages\\scipy\\optimize\\_minimize.py:491: VisibleDeprecationWarning: Creating an ndarray from ragged nested sequences (which is a list-or-tuple of lists-or-tuples-or ndarrays with different lengths or shapes) is deprecated. If you meant to do this, you must specify 'dtype=object' when creating the ndarray.\n",
      "  x0 = np.asarray(x0)\n"
     ]
    },
    {
     "ename": "TypeError",
     "evalue": "_parse_args() missing 1 required positional argument: 'df'",
     "output_type": "error",
     "traceback": [
      "\u001b[1;31m---------------------------------------------------------------------------\u001b[0m",
      "\u001b[1;31mTypeError\u001b[0m                                 Traceback (most recent call last)",
      "\u001b[1;32m<ipython-input-51-a8b6350510c7>\u001b[0m in \u001b[0;36m<module>\u001b[1;34m\u001b[0m\n\u001b[0;32m     12\u001b[0m \u001b[1;33m\u001b[0m\u001b[0m\n\u001b[0;32m     13\u001b[0m \u001b[1;33m\u001b[0m\u001b[0m\n\u001b[1;32m---> 14\u001b[1;33m \u001b[0mTresult\u001b[0m \u001b[1;33m=\u001b[0m \u001b[0mcalcVaRFittedT\u001b[0m\u001b[1;33m(\u001b[0m\u001b[0mdata\u001b[0m\u001b[1;33m,\u001b[0m \u001b[0malpha\u001b[0m \u001b[1;33m=\u001b[0m \u001b[1;36m.05\u001b[0m\u001b[1;33m)\u001b[0m\u001b[1;33m\u001b[0m\u001b[1;33m\u001b[0m\u001b[0m\n\u001b[0m\u001b[0;32m     15\u001b[0m \u001b[0mprint\u001b[0m\u001b[1;33m(\u001b[0m\u001b[0mTresult\u001b[0m\u001b[1;33m)\u001b[0m\u001b[1;33m\u001b[0m\u001b[1;33m\u001b[0m\u001b[0m\n",
      "\u001b[1;32m<ipython-input-51-a8b6350510c7>\u001b[0m in \u001b[0;36mcalcVaRFittedT\u001b[1;34m(data, alpha)\u001b[0m\n\u001b[0;32m      5\u001b[0m     \u001b[1;32mdef\u001b[0m \u001b[0mES_func_t\u001b[0m\u001b[1;33m(\u001b[0m\u001b[0mx\u001b[0m\u001b[1;33m)\u001b[0m\u001b[1;33m:\u001b[0m\u001b[1;33m\u001b[0m\u001b[1;33m\u001b[0m\u001b[0m\n\u001b[0;32m      6\u001b[0m         \u001b[1;32mreturn\u001b[0m \u001b[0mx\u001b[0m \u001b[1;33m*\u001b[0m \u001b[0mstats\u001b[0m\u001b[1;33m.\u001b[0m\u001b[0mt\u001b[0m\u001b[1;33m.\u001b[0m\u001b[0mpdf\u001b[0m\u001b[1;33m(\u001b[0m\u001b[0mx\u001b[0m\u001b[1;33m)\u001b[0m \u001b[1;33m/\u001b[0m \u001b[0malpha\u001b[0m\u001b[1;33m\u001b[0m\u001b[1;33m\u001b[0m\u001b[0m\n\u001b[1;32m----> 7\u001b[1;33m     \u001b[0mES\u001b[0m\u001b[1;33m,\u001b[0m \u001b[0m_\u001b[0m \u001b[1;33m=\u001b[0m \u001b[0mquad\u001b[0m\u001b[1;33m(\u001b[0m\u001b[0mES_func_t\u001b[0m\u001b[1;33m,\u001b[0m \u001b[1;33m-\u001b[0m\u001b[0mnp\u001b[0m\u001b[1;33m.\u001b[0m\u001b[0minf\u001b[0m\u001b[1;33m,\u001b[0m \u001b[0mvar\u001b[0m\u001b[1;33m)\u001b[0m\u001b[1;33m\u001b[0m\u001b[1;33m\u001b[0m\u001b[0m\n\u001b[0m\u001b[0;32m      8\u001b[0m     \u001b[0mES\u001b[0m \u001b[1;33m=\u001b[0m \u001b[1;33m-\u001b[0m\u001b[0mES\u001b[0m \u001b[1;33m/\u001b[0m \u001b[0malpha\u001b[0m\u001b[1;33m\u001b[0m\u001b[1;33m\u001b[0m\u001b[0m\n\u001b[0;32m      9\u001b[0m     \u001b[1;32mreturn\u001b[0m \u001b[1;33m{\u001b[0m\u001b[1;34m\"VaR\"\u001b[0m\u001b[1;33m:\u001b[0m \u001b[0mvar\u001b[0m\u001b[1;33m,\u001b[0m \u001b[1;34m\"ES\"\u001b[0m\u001b[1;33m:\u001b[0m \u001b[0mES\u001b[0m\u001b[1;33m}\u001b[0m\u001b[1;33m\u001b[0m\u001b[1;33m\u001b[0m\u001b[0m\n",
      "\u001b[1;32mc:\\Users\\Moneybag Mike\\AppData\\Local\\Programs\\Python\\Python37\\lib\\site-packages\\scipy\\integrate\\quadpack.py\u001b[0m in \u001b[0;36mquad\u001b[1;34m(func, a, b, args, full_output, epsabs, epsrel, limit, points, weight, wvar, wopts, maxp1, limlst)\u001b[0m\n\u001b[0;32m    350\u001b[0m     \u001b[1;32mif\u001b[0m \u001b[0mweight\u001b[0m \u001b[1;32mis\u001b[0m \u001b[1;32mNone\u001b[0m\u001b[1;33m:\u001b[0m\u001b[1;33m\u001b[0m\u001b[1;33m\u001b[0m\u001b[0m\n\u001b[0;32m    351\u001b[0m         retval = _quad(func, a, b, args, full_output, epsabs, epsrel, limit,\n\u001b[1;32m--> 352\u001b[1;33m                        points)\n\u001b[0m\u001b[0;32m    353\u001b[0m     \u001b[1;32melse\u001b[0m\u001b[1;33m:\u001b[0m\u001b[1;33m\u001b[0m\u001b[1;33m\u001b[0m\u001b[0m\n\u001b[0;32m    354\u001b[0m         \u001b[1;32mif\u001b[0m \u001b[0mpoints\u001b[0m \u001b[1;32mis\u001b[0m \u001b[1;32mnot\u001b[0m \u001b[1;32mNone\u001b[0m\u001b[1;33m:\u001b[0m\u001b[1;33m\u001b[0m\u001b[1;33m\u001b[0m\u001b[0m\n",
      "\u001b[1;32mc:\\Users\\Moneybag Mike\\AppData\\Local\\Programs\\Python\\Python37\\lib\\site-packages\\scipy\\integrate\\quadpack.py\u001b[0m in \u001b[0;36m_quad\u001b[1;34m(func, a, b, args, full_output, epsabs, epsrel, limit, points)\u001b[0m\n\u001b[0;32m    463\u001b[0m             \u001b[1;32mreturn\u001b[0m \u001b[0m_quadpack\u001b[0m\u001b[1;33m.\u001b[0m\u001b[0m_qagse\u001b[0m\u001b[1;33m(\u001b[0m\u001b[0mfunc\u001b[0m\u001b[1;33m,\u001b[0m\u001b[0ma\u001b[0m\u001b[1;33m,\u001b[0m\u001b[0mb\u001b[0m\u001b[1;33m,\u001b[0m\u001b[0margs\u001b[0m\u001b[1;33m,\u001b[0m\u001b[0mfull_output\u001b[0m\u001b[1;33m,\u001b[0m\u001b[0mepsabs\u001b[0m\u001b[1;33m,\u001b[0m\u001b[0mepsrel\u001b[0m\u001b[1;33m,\u001b[0m\u001b[0mlimit\u001b[0m\u001b[1;33m)\u001b[0m\u001b[1;33m\u001b[0m\u001b[1;33m\u001b[0m\u001b[0m\n\u001b[0;32m    464\u001b[0m         \u001b[1;32melse\u001b[0m\u001b[1;33m:\u001b[0m\u001b[1;33m\u001b[0m\u001b[1;33m\u001b[0m\u001b[0m\n\u001b[1;32m--> 465\u001b[1;33m             \u001b[1;32mreturn\u001b[0m \u001b[0m_quadpack\u001b[0m\u001b[1;33m.\u001b[0m\u001b[0m_qagie\u001b[0m\u001b[1;33m(\u001b[0m\u001b[0mfunc\u001b[0m\u001b[1;33m,\u001b[0m\u001b[0mbound\u001b[0m\u001b[1;33m,\u001b[0m\u001b[0minfbounds\u001b[0m\u001b[1;33m,\u001b[0m\u001b[0margs\u001b[0m\u001b[1;33m,\u001b[0m\u001b[0mfull_output\u001b[0m\u001b[1;33m,\u001b[0m\u001b[0mepsabs\u001b[0m\u001b[1;33m,\u001b[0m\u001b[0mepsrel\u001b[0m\u001b[1;33m,\u001b[0m\u001b[0mlimit\u001b[0m\u001b[1;33m)\u001b[0m\u001b[1;33m\u001b[0m\u001b[1;33m\u001b[0m\u001b[0m\n\u001b[0m\u001b[0;32m    466\u001b[0m     \u001b[1;32melse\u001b[0m\u001b[1;33m:\u001b[0m\u001b[1;33m\u001b[0m\u001b[1;33m\u001b[0m\u001b[0m\n\u001b[0;32m    467\u001b[0m         \u001b[1;32mif\u001b[0m \u001b[0minfbounds\u001b[0m \u001b[1;33m!=\u001b[0m \u001b[1;36m0\u001b[0m\u001b[1;33m:\u001b[0m\u001b[1;33m\u001b[0m\u001b[1;33m\u001b[0m\u001b[0m\n",
      "\u001b[1;32m<ipython-input-51-a8b6350510c7>\u001b[0m in \u001b[0;36mES_func_t\u001b[1;34m(x)\u001b[0m\n\u001b[0;32m      4\u001b[0m     \u001b[0mpdf\u001b[0m \u001b[1;33m=\u001b[0m \u001b[0mTDistFitted\u001b[0m\u001b[1;33m[\u001b[0m\u001b[1;34m'model'\u001b[0m\u001b[1;33m]\u001b[0m\u001b[1;33m.\u001b[0m\u001b[0mpdf\u001b[0m\u001b[1;33m\u001b[0m\u001b[1;33m\u001b[0m\u001b[0m\n\u001b[0;32m      5\u001b[0m     \u001b[1;32mdef\u001b[0m \u001b[0mES_func_t\u001b[0m\u001b[1;33m(\u001b[0m\u001b[0mx\u001b[0m\u001b[1;33m)\u001b[0m\u001b[1;33m:\u001b[0m\u001b[1;33m\u001b[0m\u001b[1;33m\u001b[0m\u001b[0m\n\u001b[1;32m----> 6\u001b[1;33m         \u001b[1;32mreturn\u001b[0m \u001b[0mx\u001b[0m \u001b[1;33m*\u001b[0m \u001b[0mstats\u001b[0m\u001b[1;33m.\u001b[0m\u001b[0mt\u001b[0m\u001b[1;33m.\u001b[0m\u001b[0mpdf\u001b[0m\u001b[1;33m(\u001b[0m\u001b[0mx\u001b[0m\u001b[1;33m)\u001b[0m \u001b[1;33m/\u001b[0m \u001b[0malpha\u001b[0m\u001b[1;33m\u001b[0m\u001b[1;33m\u001b[0m\u001b[0m\n\u001b[0m\u001b[0;32m      7\u001b[0m     \u001b[0mES\u001b[0m\u001b[1;33m,\u001b[0m \u001b[0m_\u001b[0m \u001b[1;33m=\u001b[0m \u001b[0mquad\u001b[0m\u001b[1;33m(\u001b[0m\u001b[0mES_func_t\u001b[0m\u001b[1;33m,\u001b[0m \u001b[1;33m-\u001b[0m\u001b[0mnp\u001b[0m\u001b[1;33m.\u001b[0m\u001b[0minf\u001b[0m\u001b[1;33m,\u001b[0m \u001b[0mvar\u001b[0m\u001b[1;33m)\u001b[0m\u001b[1;33m\u001b[0m\u001b[1;33m\u001b[0m\u001b[0m\n\u001b[0;32m      8\u001b[0m     \u001b[0mES\u001b[0m \u001b[1;33m=\u001b[0m \u001b[1;33m-\u001b[0m\u001b[0mES\u001b[0m \u001b[1;33m/\u001b[0m \u001b[0malpha\u001b[0m\u001b[1;33m\u001b[0m\u001b[1;33m\u001b[0m\u001b[0m\n",
      "\u001b[1;32mc:\\Users\\Moneybag Mike\\AppData\\Local\\Programs\\Python\\Python37\\lib\\site-packages\\scipy\\stats\\_distn_infrastructure.py\u001b[0m in \u001b[0;36mpdf\u001b[1;34m(self, x, *args, **kwds)\u001b[0m\n\u001b[0;32m   1754\u001b[0m \u001b[1;33m\u001b[0m\u001b[0m\n\u001b[0;32m   1755\u001b[0m         \"\"\"\n\u001b[1;32m-> 1756\u001b[1;33m         \u001b[0margs\u001b[0m\u001b[1;33m,\u001b[0m \u001b[0mloc\u001b[0m\u001b[1;33m,\u001b[0m \u001b[0mscale\u001b[0m \u001b[1;33m=\u001b[0m \u001b[0mself\u001b[0m\u001b[1;33m.\u001b[0m\u001b[0m_parse_args\u001b[0m\u001b[1;33m(\u001b[0m\u001b[1;33m*\u001b[0m\u001b[0margs\u001b[0m\u001b[1;33m,\u001b[0m \u001b[1;33m**\u001b[0m\u001b[0mkwds\u001b[0m\u001b[1;33m)\u001b[0m\u001b[1;33m\u001b[0m\u001b[1;33m\u001b[0m\u001b[0m\n\u001b[0m\u001b[0;32m   1757\u001b[0m         \u001b[0mx\u001b[0m\u001b[1;33m,\u001b[0m \u001b[0mloc\u001b[0m\u001b[1;33m,\u001b[0m \u001b[0mscale\u001b[0m \u001b[1;33m=\u001b[0m \u001b[0mmap\u001b[0m\u001b[1;33m(\u001b[0m\u001b[0masarray\u001b[0m\u001b[1;33m,\u001b[0m \u001b[1;33m(\u001b[0m\u001b[0mx\u001b[0m\u001b[1;33m,\u001b[0m \u001b[0mloc\u001b[0m\u001b[1;33m,\u001b[0m \u001b[0mscale\u001b[0m\u001b[1;33m)\u001b[0m\u001b[1;33m)\u001b[0m\u001b[1;33m\u001b[0m\u001b[1;33m\u001b[0m\u001b[0m\n\u001b[0;32m   1758\u001b[0m         \u001b[0margs\u001b[0m \u001b[1;33m=\u001b[0m \u001b[0mtuple\u001b[0m\u001b[1;33m(\u001b[0m\u001b[0mmap\u001b[0m\u001b[1;33m(\u001b[0m\u001b[0masarray\u001b[0m\u001b[1;33m,\u001b[0m \u001b[0margs\u001b[0m\u001b[1;33m)\u001b[0m\u001b[1;33m)\u001b[0m\u001b[1;33m\u001b[0m\u001b[1;33m\u001b[0m\u001b[0m\n",
      "\u001b[1;31mTypeError\u001b[0m: _parse_args() missing 1 required positional argument: 'df'"
     ]
    }
   ],
   "source": [
    "def calcVaRFittedT(data, alpha = .05):\n",
    "    TDistFitted = fit_general_t(data)\n",
    "    var = -TDistFitted['model'].ppf(alpha)\n",
    "    pdf = TDistFitted['model'].pdf\n",
    "    def ES_func_t(x):\n",
    "        return x * pdf(x) / alpha\n",
    "    ES, _ = quad(ES_func_t, -np.inf, var)\n",
    "    ES = -ES / alpha\n",
    "    return {\"VaR\": var, \"ES\": ES}\n",
    "\n",
    "\n",
    "\n",
    "\n",
    "Tresult = calcVaRFittedT(data, alpha = .05)\n",
    "print(Tresult)"
   ]
  },
  {
   "cell_type": "code",
   "execution_count": null,
   "metadata": {},
   "outputs": [],
   "source": []
  },
  {
   "cell_type": "code",
   "execution_count": 20,
   "metadata": {},
   "outputs": [],
   "source": [
    "from QuantRiskTools import PortAnalytics\n",
    "\n",
    "\n",
    "\n"
   ]
  }
 ],
 "metadata": {
  "kernelspec": {
   "display_name": "Python 3",
   "language": "python",
   "name": "python3"
  },
  "language_info": {
   "codemirror_mode": {
    "name": "ipython",
    "version": 3
   },
   "file_extension": ".py",
   "mimetype": "text/x-python",
   "name": "python",
   "nbconvert_exporter": "python",
   "pygments_lexer": "ipython3",
   "version": "3.7.9"
  },
  "orig_nbformat": 4,
  "vscode": {
   "interpreter": {
    "hash": "60a2eb1cc2948f8ab71ca2023f5261e175d5c6419ce9c9ef47a75011b152794c"
   }
  }
 },
 "nbformat": 4,
 "nbformat_minor": 2
}
