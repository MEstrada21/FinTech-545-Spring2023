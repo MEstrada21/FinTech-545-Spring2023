{
 "cells": [
  {
   "cell_type": "code",
   "execution_count": 1,
   "metadata": {},
   "outputs": [],
   "source": [
    "import pandas as pd\n",
    "import numpy as np\n",
    "import sklearn\n",
    "import scipy.stats as stats\n",
    "from scipy.stats import skew, kurtosis\n",
    "from scipy.stats import describe\n",
    "from scipy.stats.mstats import gmean\n",
    "from scipy.stats import multivariate_t\n",
    "\n",
    "import matplotlib.pyplot as plt\n",
    "import scipy.linalg\n",
    "import pprint as pprint\n",
    "import time as time\n",
    "from sklearn.decomposition import PCA\n",
    "from scipy.optimize import minimize\n",
    "from scipy.stats import t\n",
    "from scipy.integrate import quad\n",
    "from scipy.stats import norm"
   ]
  },
  {
   "cell_type": "code",
   "execution_count": null,
   "metadata": {},
   "outputs": [],
   "source": [
    "# get portfolios\n",
    "\n",
    "prices = pd.read_csv(\"DailyPrices.csv\")\n",
    "current_price = prices.iloc[-1,:]\n"
   ]
  }
 ],
 "metadata": {
  "kernelspec": {
   "display_name": "Python 3",
   "language": "python",
   "name": "python3"
  },
  "language_info": {
   "codemirror_mode": {
    "name": "ipython",
    "version": 3
   },
   "file_extension": ".py",
   "mimetype": "text/x-python",
   "name": "python",
   "nbconvert_exporter": "python",
   "pygments_lexer": "ipython3",
   "version": "3.7.9"
  },
  "orig_nbformat": 4,
  "vscode": {
   "interpreter": {
    "hash": "60a2eb1cc2948f8ab71ca2023f5261e175d5c6419ce9c9ef47a75011b152794c"
   }
  }
 },
 "nbformat": 4,
 "nbformat_minor": 2
}
