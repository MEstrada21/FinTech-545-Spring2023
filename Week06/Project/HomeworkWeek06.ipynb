{
 "cells": [
  {
   "cell_type": "code",
   "execution_count": 5,
   "metadata": {},
   "outputs": [],
   "source": [
    "import pandas as pd\n",
    "import numpy as np\n",
    "import matplotlib.pyplot as plt\n",
    "import seaborn as sns\n",
    "import statsmodels.api as sm\n",
    "from sklearn.linear_model import LinearRegression\n",
    "import numpy as np\n",
    "from math import sqrt, pi, log, e\n",
    "from enum import Enum\n",
    "import scipy.stats as stat\n",
    "from scipy.stats import norm\n",
    "import time\n",
    "\n"
   ]
  },
  {
   "cell_type": "code",
   "execution_count": 7,
   "metadata": {},
   "outputs": [],
   "source": [
    "class BSMerton(object):\n",
    "    def __init__(self, args):\n",
    "        self.Type = int(args[0])  # 1 for a Call, - 1 for a put\n",
    "        self.S = float(args[1])  # Underlying asset price\n",
    "        self.K = float(args[2])  # Option strike K\n",
    "        self.r = float(args[3])  # Continuous risk fee rate\n",
    "        self.q = float(args[4])  # Dividend continuous rate\n",
    "        self.T = float(args[5]) / 365.0  # Compute time to expiry\n",
    "        self.sigma = float(args[6])  # Underlying volatility\n",
    "        self.sigmaT = self.sigma * self.T ** 0.5  # sigma*T for reusability\n",
    "        self.d1 = (log(self.S / self.K) + \\\n",
    "                   (self.r - self.q + 0.5 * (self.sigma ** 2)) \\\n",
    "                   * self.T) / self.sigmaT\n",
    "        self.d2 = self.d1 - self.sigmaT\n",
    "        [self.Premium] = self.premium()\n",
    "        [self.Delta] = self.delta()\n",
    "        [self.Theta] = self.theta()\n",
    "        [self.Rho] = self.rho()\n",
    "        [self.Vega] = self.vega()\n",
    "        [self.Gamma] = self.gamma()\n",
    "        [self.Phi] = self.phi()\n",
    "        [self.Charm] = self.dDeltadTime()\n",
    "        [self.Vanna] = self.dDeltadVol()\n",
    "\n",
    "    def premium(self):\n",
    "        tmpprem = self.Type * (self.S * e ** (-self.q * self.T) * norm.cdf(self.Type * self.d1) - \\\n",
    "                               self.K * e ** (-self.r * self.T) * norm.cdf(self.Type * self.d2))\n",
    "        return [tmpprem]\n",
    "\n",
    "    ############################################\n",
    "    ############ 1st order greeks ##############\n",
    "    ############################################\n",
    "\n",
    "    def delta(self):\n",
    "        dfq = e ** (-self.q * self.T)\n",
    "        if self.Type == 1:\n",
    "            return [dfq * norm.cdf(self.d1)]\n",
    "        else:\n",
    "            return [dfq * (norm.cdf(self.d1) - 1)]\n",
    "\n",
    "    # Vega for 1% change in vol\n",
    "    def vega(self):\n",
    "        return [0.01 * self.S * e ** (-self.q * self.T) * \\\n",
    "                norm.pdf(self.d1) * self.T ** 0.5]\n",
    "\n",
    "    # Theta for 1 day change\n",
    "    def theta(self):\n",
    "        df = e ** -(self.r * self.T)\n",
    "        dfq = e ** (-self.q * self.T)\n",
    "        tmptheta = (1.0 / 365.0) \\\n",
    "                   * (-0.5 * self.S * dfq * norm.pdf(self.d1) * \\\n",
    "                      self.sigma / (self.T ** 0.5) + \\\n",
    "                      self.Type * (self.q * self.S * dfq * norm.cdf(self.Type * self.d1) \\\n",
    "                                   - self.r * self.K * df * norm.cdf(self.Type * self.d2)))\n",
    "        return [tmptheta]\n",
    "\n",
    "    def rho(self):\n",
    "        df = e ** -(self.r * self.T)\n",
    "        return [self.Type * self.K * self.T * df * 0.01 * norm.cdf(self.Type * self.d2)]\n",
    "\n",
    "    def phi(self):\n",
    "        return [0.01 * -self.Type * self.T * self.S * \\\n",
    "                e ** (-self.q * self.T) * norm.cdf(self.Type * self.d1)]\n",
    "\n",
    "    ############################################\n",
    "    ############ 2nd order greeks ##############\n",
    "    ############################################\n",
    "\n",
    "    def gamma(self):\n",
    "        return [e ** (-self.q * self.T) * norm.pdf(self.d1) / (self.S * self.sigmaT)]\n",
    "\n",
    "    # Charm for 1 day change\n",
    "    def dDeltadTime(self):\n",
    "        dfq = e ** (-self.q * self.T)\n",
    "        if self.Type == 1:\n",
    "            return [\n",
    "                (1.0 / 365.0) * -dfq * (norm.pdf(self.d1) * ((self.r - self.q) / (self.sigmaT) - self.d2 / (2 * self.T)) \\\n",
    "                                        + (-self.q) * norm.cdf(self.d1))]\n",
    "        else:\n",
    "            return [\n",
    "                (1.0 / 365.0) * -dfq * (norm.pdf(self.d1) * ((self.r - self.q) / (self.sigmaT) - self.d2 / (2 * self.T)) \\\n",
    "                                        + self.q * norm.cdf(-self.d1))]\n",
    "\n",
    "    # Vanna for 1% change in vol\n",
    "    def dDeltadVol(self):\n",
    "        return [0.01 * -e ** (-self.q * self.T) * self.d2 / self.sigma * norm.pdf(self.d1)]\n",
    "\n",
    "    # Vomma\n",
    "    def dVegadVol(self):\n",
    "        return [0.01 * -e ** (-self.q * self.T) * self.d2 / self.sigma * norm.pdf(self.d1)]"
   ]
  },
  {
   "cell_type": "code",
   "execution_count": 21,
   "metadata": {},
   "outputs": [],
   "source": [
    "class BSMertonImpledVolFinder(object):\n",
    "    def __init__(self, args):\n",
    "        self.Type = int(args[0])  # 1 for a Call, - 1 for a put\n",
    "        self.S = float(args[1])  # Underlying asset price\n",
    "        self.K = float(args[2])  # Option strike K\n",
    "        self.r = float(args[3])  # Continuous risk fee rate\n",
    "        self.q = float(args[4])  # Dividend continuous rate\n",
    "        self.T = float(args[5]) / 365.0  # Compute time to expiry\n",
    "        self.Premium = float(args[6])  # Option premium\n",
    "        self.sigma = self.implied_volatility()\n",
    "\n",
    "    def black_scholes_price(self, sigma):\n",
    "        sigmaT = sigma * self.T ** 0.5\n",
    "        d1 = (log(self.S / self.K) + (self.r - self.q + 0.5 * (sigma ** 2)) * self.T) / sigmaT\n",
    "        d2 = d1 - sigmaT\n",
    "        price = self.Type * (self.S * e ** (-self.q * self.T) * norm.cdf(self.Type * d1) - \\\n",
    "                             self.K * e ** (-self.r * self.T) * norm.cdf(self.Type * d2))\n",
    "        return price\n",
    "\n",
    "    def implied_volatility(self, epsilon=0.0001):\n",
    "        # Use the bisection method to find the implied volatility that matches the given option premium\n",
    "        lower = 0.001\n",
    "        upper = 10.0\n",
    "        mid = (lower + upper) / 2.0\n",
    "        diff = self.Premium - self.black_scholes_price(mid)\n",
    "        while abs(diff) > epsilon:\n",
    "            if diff > 0:\n",
    "                lower = mid\n",
    "            else:\n",
    "                upper = mid\n",
    "            mid = (lower + upper) / 2.0\n",
    "            diff = self.Premium - self.black_scholes_price(mid)\n",
    "        return mid\n",
    "    "
   ]
  },
  {
   "cell_type": "code",
   "execution_count": 20,
   "metadata": {},
   "outputs": [
    {
     "data": {
      "text/plain": [
       "[1.173782017848609,\n",
       " 1.8165913138241478,\n",
       " 2.4599232051813402,\n",
       " 3.103421072678273,\n",
       " 3.746955662812084,\n",
       " 4.390462753433198,\n",
       " 5.033902524676748,\n",
       " 5.677246009596956,\n",
       " 6.320469673507574,\n",
       " 6.9635529502028675,\n",
       " 7.606477010470343,\n",
       " 8.24922409943423,\n",
       " 8.891777158342094,\n",
       " 9.534119598064947,\n",
       " 10.176235157940582]"
      ]
     },
     "execution_count": 20,
     "metadata": {},
     "output_type": "execute_result"
    }
   ],
   "source": [
    "# Call = 1  Put = -1   [Option,Price, Strike,Continuous rf rate, dividend, days to exp,vol]\n",
    "\n",
    "Implied_Volatility = [.1,.15,.2,.25,.3,.35,.4,.45,.5,.55,.6,65,.7,.75,.8]\n",
    "\n",
    "AAPL_Call= [1,165,165,0.0425,0.0053,14,Implied_Volatility]\n",
    "AAPL_Put= [-1,165,165,0.0425,0.0053,14,Implied_Volatility]\n",
    "\n",
    "\n",
    "def ArrayOfPricesGivenVols(OptionParams,IV_Array):\n",
    "    prices = []\n",
    "    for i in IV_Array:\n",
    "        OptionParams[6] = i\n",
    "        prices.append(BSMerton(OptionParams).Premium)\n",
    "    return prices\n",
    "\n",
    "AAPLCallSide= ArrayOfPricesGivenVols(AAPL_Call,Implied_Volatility)\n",
    "AAPLPutSide= ArrayOfPricesGivenVols(AAPL_Put,Implied_Volatility)\n",
    "\n",
    "AAPLCallSide\n",
    "AAPLPutSide"
   ]
  },
  {
   "cell_type": "code",
   "execution_count": 14,
   "metadata": {},
   "outputs": [
    {
     "data": {
      "text/plain": [
       "10.411449592063775"
      ]
     },
     "execution_count": 14,
     "metadata": {},
     "output_type": "execute_result"
    }
   ],
   "source": [
    "AAPL_Call_Sanity_Check = [1,165,165,0.0425,0.0053,14,.8]\n",
    "BSMerton(AAPL_Call_Sanity_Check).Premium\n",
    "\n"
   ]
  },
  {
   "cell_type": "code",
   "execution_count": 24,
   "metadata": {},
   "outputs": [
    {
     "data": {
      "text/plain": [
       "0.47994456291198717"
      ]
     },
     "execution_count": 24,
     "metadata": {},
     "output_type": "execute_result"
    }
   ],
   "source": [
    "AAPL_IV_Call_150 = [1,151.03,155,0.0425,0.0053,14,4.05]\n",
    "\n",
    "ImpVol = BSMertonImpledVolFinder(AAPL_IV_Call_150).implied_volatility()\n",
    "ImpVol\n"
   ]
  }
 ],
 "metadata": {
  "kernelspec": {
   "display_name": "Python 3",
   "language": "python",
   "name": "python3"
  },
  "language_info": {
   "codemirror_mode": {
    "name": "ipython",
    "version": 3
   },
   "file_extension": ".py",
   "mimetype": "text/x-python",
   "name": "python",
   "nbconvert_exporter": "python",
   "pygments_lexer": "ipython3",
   "version": "3.7.9"
  },
  "orig_nbformat": 4
 },
 "nbformat": 4,
 "nbformat_minor": 2
}
