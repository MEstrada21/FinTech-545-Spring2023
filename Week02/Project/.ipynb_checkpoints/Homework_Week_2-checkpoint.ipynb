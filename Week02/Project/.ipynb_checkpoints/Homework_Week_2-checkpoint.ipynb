{
 "cells": [
  {
   "cell_type": "code",
   "execution_count": 18,
   "metadata": {},
   "outputs": [],
   "source": [
    "import scipy as scipy\n",
    "import sklearn as sk\n",
    "from sklearn.preprocessing import MinMaxScaler\n",
    "import numpy as np\n",
    "import matplotlib.pyplot as plt\n",
    "import pandas as pd\n",
    "import seaborn as sns\n",
    "import statsmodels.api as sm\n"
   ]
  },
  {
   "cell_type": "code",
   "execution_count": 13,
   "metadata": {},
   "outputs": [
    {
     "name": "stdout",
     "output_type": "stream",
     "text": [
      "           x         y\n",
      "0  -1.166289  1.014680\n",
      "1  -0.426878  0.262715\n",
      "2  -1.477892 -1.044772\n",
      "3   3.049119  0.804363\n",
      "4  -2.123732 -0.689514\n",
      "..       ...       ...\n",
      "95 -0.588599  0.652704\n",
      "96 -0.218138  0.067676\n",
      "97  0.342822  1.214472\n",
      "98  0.337376  0.608974\n",
      "99  1.153817 -0.683444\n",
      "\n",
      "[100 rows x 2 columns]\n"
     ]
    }
   ],
   "source": [
    "df = pd.read_csv('problem1.csv')\n",
    "df_normalized = pd.read_csv('problem1.csv')\n",
    "\n",
    "df.head()\n",
    "\n",
    "print(df)"
   ]
  },
  {
   "cell_type": "code",
   "execution_count": 14,
   "metadata": {},
   "outputs": [
    {
     "data": {
      "text/plain": [
       "x    0.238973\n",
       "y    0.294208\n",
       "dtype: float64"
      ]
     },
     "execution_count": 14,
     "metadata": {},
     "output_type": "execute_result"
    }
   ],
   "source": [
    "df.skew()"
   ]
  },
  {
   "cell_type": "code",
   "execution_count": 15,
   "metadata": {},
   "outputs": [
    {
     "data": {
      "text/plain": [
       "x   -0.202272\n",
       "y   -0.094838\n",
       "dtype: float64"
      ]
     },
     "execution_count": 15,
     "metadata": {},
     "output_type": "execute_result"
    }
   ],
   "source": [
    "df.kurtosis()"
   ]
  },
  {
   "cell_type": "code",
   "execution_count": 33,
   "metadata": {
    "scrolled": true
   },
   "outputs": [
    {
     "name": "stdout",
     "output_type": "stream",
     "text": [
      "                                 OLS Regression Results                                \n",
      "=======================================================================================\n",
      "Dep. Variable:                      y   R-squared (uncentered):                   0.193\n",
      "Model:                            OLS   Adj. R-squared (uncentered):              0.185\n",
      "Method:                 Least Squares   F-statistic:                              23.69\n",
      "Date:                Thu, 26 Jan 2023   Prob (F-statistic):                    4.28e-06\n",
      "Time:                        18:05:27   Log-Likelihood:                         -160.49\n",
      "No. Observations:                 100   AIC:                                      323.0\n",
      "Df Residuals:                      99   BIC:                                      325.6\n",
      "Df Model:                           1                                                  \n",
      "Covariance Type:            nonrobust                                                  \n",
      "==============================================================================\n",
      "                 coef    std err          t      P>|t|      [0.025      0.975]\n",
      "------------------------------------------------------------------------------\n",
      "x              0.6052      0.124      4.867      0.000       0.358       0.852\n",
      "==============================================================================\n",
      "Omnibus:                       14.146   Durbin-Watson:                   1.866\n",
      "Prob(Omnibus):                  0.001   Jarque-Bera (JB):               43.674\n",
      "Skew:                          -0.267   Prob(JB):                     3.28e-10\n",
      "Kurtosis:                       6.193   Cond. No.                         1.00\n",
      "==============================================================================\n",
      "\n",
      "Notes:\n",
      "[1] R² is computed without centering (uncentered) since the model does not contain a constant.\n",
      "[2] Standard Errors assume that the covariance matrix of the errors is correctly specified.\n"
     ]
    }
   ],
   "source": [
    "\n",
    "from sklearn.linear_model import LinearRegression\n",
    "\n",
    "\n",
    "# Read in the data from a CSV file\n",
    "data = pd.read_csv('problem2.csv')\n",
    "\n",
    "# Split the data into the predictor variables (X) and the target variable (y)\n",
    "X = data['x']\n",
    "y = data['y']\n",
    "\n",
    "# Create a LinearRegression object and fit it to the data\n",
    "model = sm.OLS(y,X).fit()\n",
    "print(model.summary())\n"
   ]
  },
  {
   "cell_type": "code",
   "execution_count": 34,
   "metadata": {},
   "outputs": [
    {
     "name": "stdout",
     "output_type": "stream",
     "text": [
      "0    -0.718671\n",
      "1     0.955120\n",
      "2     1.147262\n",
      "3     1.439575\n",
      "4    -0.032478\n",
      "        ...   \n",
      "95   -1.470443\n",
      "96   -1.575020\n",
      "97    0.554699\n",
      "98    0.522090\n",
      "99   -0.802468\n",
      "Length: 100, dtype: float64\n"
     ]
    }
   ],
   "source": [
    "error= model.resid\n",
    "print(error)"
   ]
  },
  {
   "cell_type": "code",
   "execution_count": 35,
   "metadata": {},
   "outputs": [
    {
     "name": "stdout",
     "output_type": "stream",
     "text": [
      "[5.11961603 2.01576449]\n"
     ]
    }
   ],
   "source": [
    "from scipy.optimize import minimize\n",
    "import numpy as np\n",
    "\n",
    "# Define the likelihood function\n",
    "def likelihood(params, data):\n",
    "    mu, sigma = params\n",
    "    return -np.sum(np.log(1 / (sigma * np.sqrt(2 * np.pi)) * np.exp(- (data - mu)**2 / (2 * sigma**2))))\n",
    "\n",
    "# Generate some data\n",
    "np.random.seed(0)\n",
    "data = np.random.normal(5, 2, 100)\n",
    "\n",
    "# Initialize the starting point for the optimization\n",
    "mu_0 = np.mean(data)\n",
    "sigma_0 = np.std(data)\n",
    "params_0 = [mu_0, sigma_0]\n",
    "\n",
    "# Perform the optimization\n",
    "result = minimize(likelihood, params_0, args=(data,))\n",
    "\n",
    "# Print the estimated parameters\n",
    "print(result.x)\n",
    "\n"
   ]
  },
  {
   "cell_type": "code",
   "execution_count": 32,
   "metadata": {},
   "outputs": [
    {
     "ename": "AttributeError",
     "evalue": "module 'statsmodels.api' has no attribute 'minimize'",
     "output_type": "error",
     "traceback": [
      "\u001b[0;31m---------------------------------------------------------------------------\u001b[0m",
      "\u001b[0;31mAttributeError\u001b[0m                            Traceback (most recent call last)",
      "Input \u001b[0;32mIn [32]\u001b[0m, in \u001b[0;36m<cell line: 2>\u001b[0;34m()\u001b[0m\n\u001b[1;32m      1\u001b[0m \u001b[38;5;66;03m# minimize arguments: function, intial_guess_of_parameters, method\u001b[39;00m\n\u001b[0;32m----> 2\u001b[0m mle_model \u001b[38;5;241m=\u001b[39m \u001b[43msm\u001b[49m\u001b[38;5;241;43m.\u001b[39;49m\u001b[43mminimize\u001b[49m(MLE_Norm, np\u001b[38;5;241m.\u001b[39marray([\u001b[38;5;241m2\u001b[39m,\u001b[38;5;241m2\u001b[39m,\u001b[38;5;241m2\u001b[39m]), method\u001b[38;5;241m=\u001b[39m\u001b[38;5;124m'\u001b[39m\u001b[38;5;124mL-BFGS-B\u001b[39m\u001b[38;5;124m'\u001b[39m)\n\u001b[1;32m      3\u001b[0m mle_model\n",
      "\u001b[0;31mAttributeError\u001b[0m: module 'statsmodels.api' has no attribute 'minimize'"
     ]
    }
   ],
   "source": []
  }
 ],
 "metadata": {
  "kernelspec": {
   "display_name": "Python 3 (ipykernel)",
   "language": "python",
   "name": "python3"
  },
  "language_info": {
   "codemirror_mode": {
    "name": "ipython",
    "version": 3
   },
   "file_extension": ".py",
   "mimetype": "text/x-python",
   "name": "python",
   "nbconvert_exporter": "python",
   "pygments_lexer": "ipython3",
   "version": "3.9.12"
  },
  "vscode": {
   "interpreter": {
    "hash": "aee8b7b246df8f9039afb4144a1f6fd8d2ca17a180786b69acc140d282b71a49"
   }
  }
 },
 "nbformat": 4,
 "nbformat_minor": 2
}
